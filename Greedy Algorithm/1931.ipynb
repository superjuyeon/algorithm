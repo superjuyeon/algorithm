{
 "cells": [
  {
   "cell_type": "code",
   "execution_count": 2,
   "metadata": {},
   "outputs": [
    {
     "data": {
      "text/plain": [
       "[(0, 6),\n",
       " (1, 4),\n",
       " (2, 13),\n",
       " (3, 5),\n",
       " (3, 8),\n",
       " (5, 7),\n",
       " (5, 9),\n",
       " (6, 10),\n",
       " (8, 11),\n",
       " (8, 12),\n",
       " (12, 14)]"
      ]
     },
     "execution_count": 2,
     "metadata": {},
     "output_type": "execute_result"
    }
   ],
   "source": [
    "N = int(input())\n",
    "a = []\n",
    "for i in range(N):\n",
    "    b = input().split(' ')\n",
    "    b = tuple(map(int, b))\n",
    "    a.append(b)N = int(input())\n",
    "a = []\n",
    "for i in range(N):\n",
    "    b = input().split(' ')\n",
    "    b = tuple(map(int, b))\n",
    "    a.append(b)\n",
    "\n",
    "a.sort(key=lambda x:x[0])\n",
    "a.sort(key=lambda x:x[1])\n",
    "\n",
    "a"
   ]
  },
  {
   "cell_type": "code",
   "execution_count": 31,
   "metadata": {},
   "outputs": [
    {
     "name": "stdout",
     "output_type": "stream",
     "text": [
      "1 4 1\n",
      "5 7 2\n",
      "8 11 3\n",
      "12 14 4\n",
      "4\n"
     ]
    }
   ],
   "source": [
    "N = int(input())\n",
    "a = []\n",
    "for i in range(N):\n",
    "    b = input().split(' ')\n",
    "    b = tuple(map(int, b))\n",
    "    a.append(b)\n",
    "\n",
    "a.sort(key=lambda x:x[0])\n",
    "a.sort(key=lambda x:x[1])\n",
    "\n",
    "answer = 0\n",
    "end = 0\n",
    "\n",
    "for i, j in a:\n",
    "    if i >= end:\n",
    "        answer += 1\n",
    "        end = j \n",
    "\n",
    "print(answer)"
   ]
  },
  {
   "cell_type": "code",
   "execution_count": null,
   "metadata": {},
   "outputs": [],
   "source": []
  }
 ],
 "metadata": {
  "interpreter": {
   "hash": "31f2aee4e71d21fbe5cf8b01ff0e069b9275f58929596ceb00d14d90e3e16cd6"
  },
  "kernelspec": {
   "display_name": "Python 3.8.2 64-bit",
   "language": "python",
   "name": "python3"
  },
  "language_info": {
   "name": "python",
   "version": "3.9.7"
  },
  "orig_nbformat": 4
 },
 "nbformat": 4,
 "nbformat_minor": 2
}
