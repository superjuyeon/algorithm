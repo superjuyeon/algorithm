{
 "cells": [
  {
   "cell_type": "code",
   "execution_count": 43,
   "metadata": {},
   "outputs": [
    {
     "name": "stdout",
     "output_type": "stream",
     "text": [
      "RRRDLLLDRRR\n"
     ]
    }
   ],
   "source": [
    "R, C = map(int, input().split())\n",
    "a = []\n",
    "for i in range(C):\n",
    "    a.append(input().split())\n",
    "\n",
    "if C % 2 != 0:\n",
    "    print(((R-1)*'R'+'D'+(R-1)*'L'+'D')*(C//2) + (R-1) *'R')\n",
    "else:\n",
    "    if a[-1][-2] < a[-2][-1]:\n",
    "        print(((R-1)*'R'+'D'+(R-1)*'L'+'D')*(C//2-1) + ('DRUR') * (R//2-1) + 'RD') \n",
    "    else:\n",
    "        print(((R-1)*'R'+'D'+(R-1)*'L'+'D')*(C//2-1) + ('DRUR') * (R//2-1) + 'DR')"
   ]
  },
  {
   "cell_type": "code",
   "execution_count": 45,
   "metadata": {},
   "outputs": [
    {
     "ename": "ValueError",
     "evalue": "not enough values to unpack (expected 2, got 0)",
     "output_type": "error",
     "traceback": [
      "\u001b[0;31m---------------------------------------------------------------------------\u001b[0m",
      "\u001b[0;31mValueError\u001b[0m                                Traceback (most recent call last)",
      "\u001b[0;32m/var/folders/2k/jvtk7sjj0njgkfhmsf5h7w_h0000gn/T/ipykernel_3358/1498781046.py\u001b[0m in \u001b[0;36m<module>\u001b[0;34m\u001b[0m\n\u001b[0;32m----> 1\u001b[0;31m \u001b[0mR\u001b[0m\u001b[0;34m,\u001b[0m \u001b[0mC\u001b[0m \u001b[0;34m=\u001b[0m \u001b[0mmap\u001b[0m\u001b[0;34m(\u001b[0m\u001b[0mint\u001b[0m\u001b[0;34m,\u001b[0m \u001b[0minput\u001b[0m\u001b[0;34m(\u001b[0m\u001b[0;34m)\u001b[0m\u001b[0;34m.\u001b[0m\u001b[0msplit\u001b[0m\u001b[0;34m(\u001b[0m\u001b[0;34m)\u001b[0m\u001b[0;34m)\u001b[0m\u001b[0;34m\u001b[0m\u001b[0;34m\u001b[0m\u001b[0m\n\u001b[0m\u001b[1;32m      2\u001b[0m \u001b[0ma\u001b[0m \u001b[0;34m=\u001b[0m \u001b[0;34m[\u001b[0m\u001b[0;34m]\u001b[0m\u001b[0;34m\u001b[0m\u001b[0;34m\u001b[0m\u001b[0m\n\u001b[1;32m      3\u001b[0m \u001b[0;32mfor\u001b[0m \u001b[0mi\u001b[0m \u001b[0;32min\u001b[0m \u001b[0mrange\u001b[0m\u001b[0;34m(\u001b[0m\u001b[0mC\u001b[0m\u001b[0;34m)\u001b[0m\u001b[0;34m:\u001b[0m\u001b[0;34m\u001b[0m\u001b[0;34m\u001b[0m\u001b[0m\n\u001b[1;32m      4\u001b[0m     \u001b[0ma\u001b[0m\u001b[0;34m.\u001b[0m\u001b[0mappend\u001b[0m\u001b[0;34m(\u001b[0m\u001b[0minput\u001b[0m\u001b[0;34m(\u001b[0m\u001b[0;34m)\u001b[0m\u001b[0;34m.\u001b[0m\u001b[0msplit\u001b[0m\u001b[0;34m(\u001b[0m\u001b[0;34m)\u001b[0m\u001b[0;34m)\u001b[0m\u001b[0;34m\u001b[0m\u001b[0;34m\u001b[0m\u001b[0m\n\u001b[1;32m      5\u001b[0m \u001b[0;34m\u001b[0m\u001b[0m\n",
      "\u001b[0;31mValueError\u001b[0m: not enough values to unpack (expected 2, got 0)"
     ]
    }
   ],
   "source": [
    "R, C = map(int, input().split())\n",
    "a = []\n",
    "for i in range(C):\n",
    "    a.append(input().split())\n",
    "\n",
    "if R % 2 != 0:\n",
    "    print(((C-1)*'D'+'R'+(C-1)*'U'+'R')*(R//2) + (C-1) *'D')\n",
    "\n",
    "\n",
    "if C % 2 != 0 and R % 2 == 0 :\n",
    "    print(((R-1)*'R'+'D'+(R-1)*'L'+'D')*(C//2) + (R-1) *'R')\n",
    "\n",
    "else:\n",
    "    if a[-1][-2] < a[-2][-1]:\n",
    "        print(((R-1)*'R'+'D'+(R-1)*'L'+'D')*(C//2-1) + ('DRUR') * (R//2-1) + 'RD') \n",
    "    else:\n",
    "        print(((R-1)*'R'+'D'+(R-1)*'L'+'D')*(C//2-1) + ('DRUR') * (R//2-1) + 'DR')"
   ]
  },
  {
   "cell_type": "code",
   "execution_count": null,
   "metadata": {},
   "outputs": [],
   "source": []
  }
 ],
 "metadata": {
  "interpreter": {
   "hash": "bbc0bf65a6f8e0217c95f13f1759dd768930a0eb76d62922d2b995a222ede28e"
  },
  "kernelspec": {
   "display_name": "Python 3.9.7 64-bit ('base': conda)",
   "language": "python",
   "name": "python3"
  },
  "language_info": {
   "codemirror_mode": {
    "name": "ipython",
    "version": 3
   },
   "file_extension": ".py",
   "mimetype": "text/x-python",
   "name": "python",
   "nbconvert_exporter": "python",
   "pygments_lexer": "ipython3",
   "version": "3.9.7"
  },
  "orig_nbformat": 4
 },
 "nbformat": 4,
 "nbformat_minor": 2
}
