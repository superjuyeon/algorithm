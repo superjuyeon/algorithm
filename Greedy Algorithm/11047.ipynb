{
 "cells": [
  {
   "cell_type": "code",
   "execution_count": 101,
   "source": [
    "a = input().split(\" \")[::-1]\n",
    "b = int(a[-2])\n",
    "total = int(a[-2])\n",
    "answer = 0\n",
    "\n",
    "for i in range(int(a[-1])):\n",
    "    if total == 0:\n",
    "        pass\n",
    "    else:\n",
    "        if int(a[i]) <= total:\n",
    "            c = total // int(a[i])\n",
    "            total = total - (c * int(a[i]))\n",
    "            answer += c\n",
    "print(answer)"
   ],
   "outputs": [
    {
     "output_type": "stream",
     "name": "stdout",
     "text": [
      "6\n"
     ]
    }
   ],
   "metadata": {}
  },
  {
   "cell_type": "code",
   "execution_count": 99,
   "source": [
    "def answer(a):\n",
    "    a = a.split(\" \")[::-1]\n",
    "    b = int(a[-2])\n",
    "    total = int(a[-2])\n",
    "    answer = 0\n",
    "    \n",
    "    for i in range(int(a[-1])):\n",
    "        if total == 0:\n",
    "            pass\n",
    "        else:\n",
    "            if int(a[i]) <= total:\n",
    "                c = total // int(a[i])\n",
    "                total = total - (c * int(a[i]))\n",
    "                answer += c\n",
    "    return answer"
   ],
   "outputs": [],
   "metadata": {}
  },
  {
   "cell_type": "code",
   "execution_count": 100,
   "source": [
    "answer(input())"
   ],
   "outputs": [
    {
     "output_type": "execute_result",
     "data": {
      "text/plain": [
       "12"
      ]
     },
     "metadata": {},
     "execution_count": 100
    }
   ],
   "metadata": {}
  },
  {
   "cell_type": "code",
   "execution_count": 62,
   "source": [
    "N, K = map(int, input().split())\n",
    "list1 = []\n",
    "\n",
    "for i in range(N):\n",
    "    list1.append(int(input(i)))\n",
    "    list1.sort(reverse=True)\n",
    "\n",
    "count = 0\n",
    "for i in range(N):\n",
    "    if x // y\n",
    "    x,y = divmod(K,list1[i])\n",
    "    K = K - (x * list1[i])\n",
    "    i = i-1\n",
    "\n",
    "# print(count)\n",
    "\n"
   ],
   "outputs": [
    {
     "output_type": "stream",
     "name": "stdout",
     "text": [
      "[1]\n",
      "[5, 1]\n",
      "[10, 5, 1]\n",
      "[50, 10, 5, 1]\n",
      "[55, 50, 10, 5, 1]\n"
     ]
    }
   ],
   "metadata": {}
  }
 ],
 "metadata": {
  "orig_nbformat": 4,
  "language_info": {
   "name": "python",
   "version": "3.8.5",
   "mimetype": "text/x-python",
   "codemirror_mode": {
    "name": "ipython",
    "version": 3
   },
   "pygments_lexer": "ipython3",
   "nbconvert_exporter": "python",
   "file_extension": ".py"
  },
  "kernelspec": {
   "name": "python3",
   "display_name": "Python 3.8.5 64-bit (conda)"
  },
  "interpreter": {
   "hash": "a35a9162167d1e4060ce6d7a97b57b50a38ec8e01abc65cb79df74ecade7518b"
  }
 },
 "nbformat": 4,
 "nbformat_minor": 2
}