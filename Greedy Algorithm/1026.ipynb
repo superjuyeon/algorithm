{
 "cells": [
  {
   "cell_type": "code",
   "execution_count": 25,
   "source": [
    "A = []\n",
    "B = []\n",
    "\n",
    "N = int(input())\n",
    "a = input()\n",
    "b = input()\n",
    "\n",
    "A = list(map(int, a.split()))\n",
    "B = list(map(int, b.split()))\n",
    "\n",
    "A.sort(reverse=True)\n",
    "B.sort()\n",
    "\n",
    "sum = 0\n",
    "for i in range(N):\n",
    "    sum += A[i]*B[i]\n",
    "\n",
    "print(sum)"
   ],
   "outputs": [
    {
     "output_type": "stream",
     "name": "stdout",
     "text": [
      "80\n"
     ]
    }
   ],
   "metadata": {}
  },
  {
   "cell_type": "code",
   "execution_count": 21,
   "source": [
    "B"
   ],
   "outputs": [
    {
     "output_type": "execute_result",
     "data": {
      "text/plain": [
       "[1, 2, 3]"
      ]
     },
     "metadata": {},
     "execution_count": 21
    }
   ],
   "metadata": {}
  },
  {
   "cell_type": "code",
   "execution_count": null,
   "source": [],
   "outputs": [],
   "metadata": {}
  }
 ],
 "metadata": {
  "orig_nbformat": 4,
  "language_info": {
   "name": "python",
   "version": "3.8.5",
   "mimetype": "text/x-python",
   "codemirror_mode": {
    "name": "ipython",
    "version": 3
   },
   "pygments_lexer": "ipython3",
   "nbconvert_exporter": "python",
   "file_extension": ".py"
  },
  "kernelspec": {
   "name": "python3",
   "display_name": "Python 3.8.5 64-bit (conda)"
  },
  "interpreter": {
   "hash": "a35a9162167d1e4060ce6d7a97b57b50a38ec8e01abc65cb79df74ecade7518b"
  }
 },
 "nbformat": 4,
 "nbformat_minor": 2
}