{
 "cells": [
  {
   "cell_type": "code",
   "execution_count": 56,
   "metadata": {},
   "outputs": [
    {
     "name": "stdout",
     "output_type": "stream",
     "text": [
      "8\n"
     ]
    }
   ],
   "source": [
    "N, M, K = map(int, input().split())\n",
    "\n",
    "minteam = int(min(N/2, M/1))\n",
    "\n",
    "n = N - minteam * 2\n",
    "m = M - minteam\n",
    "\n",
    "remainder = n+m\n",
    "\n",
    "if K <= remainder:\n",
    "    print(minteam)\n",
    "else:\n",
    "    if minteam - ((K - remainder) // 3 + 1 ) < 0:\n",
    "        print(0)\n",
    "\n",
    "    if (K - remainder) % 3 == 0:\n",
    "        print(minteam - ((K - remainder) // 3))\n",
    "\n",
    "    if (K - remainder) % 3 != 0:\n",
    "        print(minteam - ((K - remainder) // 3 + 1 ))"
   ]
  },
  {
   "cell_type": "code",
   "execution_count": 86,
   "metadata": {},
   "outputs": [
    {
     "name": "stdout",
     "output_type": "stream",
     "text": [
      "8\n"
     ]
    }
   ],
   "source": [
    "N, M, K = map(int, input().split())\n",
    "team = 0\n",
    "\n",
    "while True:\n",
    "    N = N - 2\n",
    "    M = M - 1\n",
    "    team = team + 1\n",
    "\n",
    "    if N<0 or M<0 or N+M<K:\n",
    "        team = team -1\n",
    "        break\n",
    "    \n",
    "print(team)\n"
   ]
  },
  {
   "cell_type": "code",
   "execution_count": 95,
   "metadata": {},
   "outputs": [
    {
     "name": "stdout",
     "output_type": "stream",
     "text": [
      "8\n"
     ]
    }
   ],
   "source": [
    "N, M, K = map(int, input().split())\n",
    "team = 0\n",
    "\n",
    "while N>=2 and M>=1 and N+M>=K+3:\n",
    "    N -= 2\n",
    "    M -= 1\n",
    "    team += 1\n",
    "\n",
    "print(team)\n"
   ]
  },
  {
   "cell_type": "code",
   "execution_count": null,
   "metadata": {},
   "outputs": [],
   "source": []
  },
  {
   "cell_type": "code",
   "execution_count": null,
   "metadata": {},
   "outputs": [],
   "source": []
  }
 ],
 "metadata": {
  "interpreter": {
   "hash": "a35a9162167d1e4060ce6d7a97b57b50a38ec8e01abc65cb79df74ecade7518b"
  },
  "kernelspec": {
   "display_name": "Python 3.8.5 64-bit (conda)",
   "name": "python3"
  },
  "language_info": {
   "codemirror_mode": {
    "name": "ipython",
    "version": 3
   },
   "file_extension": ".py",
   "mimetype": "text/x-python",
   "name": "python",
   "nbconvert_exporter": "python",
   "pygments_lexer": "ipython3",
   "version": "3.9.7"
  },
  "orig_nbformat": 4
 },
 "nbformat": 4,
 "nbformat_minor": 2
}
