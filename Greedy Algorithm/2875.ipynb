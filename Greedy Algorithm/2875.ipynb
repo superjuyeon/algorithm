{
 "cells": [
  {
   "cell_type": "code",
   "execution_count": 56,
   "source": [
    "N, M, K = map(int, input().split())\n",
    "\n",
    "minteam = int(min(N/2, M/1))\n",
    "\n",
    "n = N - minteam * 2\n",
    "m = M - minteam\n",
    "\n",
    "remainder = n+m\n",
    "\n",
    "if K <= remainder:\n",
    "    print(minteam)\n",
    "else:\n",
    "    if minteam - ((K - remainder) // 3 + 1 ) < 0:\n",
    "        print(0)\n",
    "\n",
    "    if (K - remainder) % 3 == 0:\n",
    "        print(minteam - ((K - remainder) // 3))\n",
    "\n",
    "    if (K - remainder) % 3 != 0:\n",
    "        print(minteam - ((K - remainder) // 3 + 1 ))"
   ],
   "outputs": [
    {
     "output_type": "stream",
     "name": "stdout",
     "text": [
      "8\n"
     ]
    }
   ],
   "metadata": {}
  },
  {
   "cell_type": "code",
   "execution_count": 86,
   "source": [
    "N, M, K = map(int, input().split())\n",
    "team = 0\n",
    "\n",
    "while True:\n",
    "    N = N - 2\n",
    "    M = M - 1\n",
    "    team = team + 1\n",
    "\n",
    "    if N<0 or M<0 or N+M<K:\n",
    "        team = team -1\n",
    "        break\n",
    "    \n",
    "print(team)\n"
   ],
   "outputs": [
    {
     "output_type": "stream",
     "name": "stdout",
     "text": [
      "8\n"
     ]
    }
   ],
   "metadata": {}
  },
  {
   "cell_type": "code",
   "execution_count": 95,
   "source": [
    "N, M, K = map(int, input().split())\n",
    "team = 0\n",
    "\n",
    "while N>=2 and M>=1 and N+M>=K+3:\n",
    "    N -= 2\n",
    "    M -= 1\n",
    "    team += 1\n",
    "\n",
    "print(team)\n"
   ],
   "outputs": [
    {
     "output_type": "stream",
     "name": "stdout",
     "text": [
      "8\n"
     ]
    }
   ],
   "metadata": {}
  },
  {
   "cell_type": "code",
   "execution_count": null,
   "source": [],
   "outputs": [],
   "metadata": {}
  },
  {
   "cell_type": "code",
   "execution_count": null,
   "source": [],
   "outputs": [],
   "metadata": {}
  }
 ],
 "metadata": {
  "orig_nbformat": 4,
  "language_info": {
   "name": "python",
   "version": "3.8.5",
   "mimetype": "text/x-python",
   "codemirror_mode": {
    "name": "ipython",
    "version": 3
   },
   "pygments_lexer": "ipython3",
   "nbconvert_exporter": "python",
   "file_extension": ".py"
  },
  "kernelspec": {
   "name": "python3",
   "display_name": "Python 3.8.5 64-bit (conda)"
  },
  "interpreter": {
   "hash": "a35a9162167d1e4060ce6d7a97b57b50a38ec8e01abc65cb79df74ecade7518b"
  }
 },
 "nbformat": 4,
 "nbformat_minor": 2
}