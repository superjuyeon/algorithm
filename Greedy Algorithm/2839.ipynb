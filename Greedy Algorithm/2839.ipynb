{
 "cells": [
  {
   "cell_type": "code",
   "execution_count": 3,
   "source": [
    "N = int(input())\n",
    "count = 0\n",
    "\n",
    "while True:\n",
    "    if (N % 5) == 0:\n",
    "        count = count + (N//5)\n",
    "        print(count)\n",
    "        break\n",
    "    \n",
    "    N = N - 3\n",
    "    count += 1\n",
    "    \n",
    "    if N < 0:\n",
    "        print(\"-1\")\n",
    "        break"
   ],
   "outputs": [
    {
     "output_type": "stream",
     "name": "stdout",
     "text": [
      "3\n"
     ]
    }
   ],
   "metadata": {}
  },
  {
   "cell_type": "code",
   "execution_count": null,
   "source": [],
   "outputs": [],
   "metadata": {}
  }
 ],
 "metadata": {
  "orig_nbformat": 4,
  "language_info": {
   "name": "python",
   "version": "3.8.5",
   "mimetype": "text/x-python",
   "codemirror_mode": {
    "name": "ipython",
    "version": 3
   },
   "pygments_lexer": "ipython3",
   "nbconvert_exporter": "python",
   "file_extension": ".py"
  },
  "kernelspec": {
   "name": "python3",
   "display_name": "Python 3.8.5 64-bit (conda)"
  },
  "interpreter": {
   "hash": "a35a9162167d1e4060ce6d7a97b57b50a38ec8e01abc65cb79df74ecade7518b"
  }
 },
 "nbformat": 4,
 "nbformat_minor": 2
}